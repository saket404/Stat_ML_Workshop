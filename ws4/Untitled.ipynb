{
 "cells": [
  {
   "cell_type": "code",
   "execution_count": 9,
   "metadata": {},
   "outputs": [
    {
     "name": "stdout",
     "output_type": "stream",
     "text": [
      "Enter keyword/hastag to search about : dash\n",
      "How many tweets do you wanna print :  2\n",
      "Now playing I Wanna Roll by DJ Dine &amp; Dash!\n",
      "\n",
      "https://t.co/DJAYJv1uhU\n",
      "@tenzingumo じゃぁ普通のワイパー付いてるん？\n"
     ]
    }
   ],
   "source": [
    "import tweepy\n",
    "consumerKey = \"Sgdz0quGjDDTtGbFAxWQ02E5M\"\n",
    "consumerSecret = \"Tga6cBVR2UymusPht67gP0GX8rQOxI9a15dACvuWKVPe8aDumv\"\n",
    "accessToken = \"980878168180609024-nggEvf3WSLb1IcmmHfoCMhDNvZjbMid\"\n",
    "accessTokenSecret = \"BfzoCU0596PuziNWOhSPk5nYW9DCfmzkaC8SE4iwFv0th\"\n",
    "\n",
    "auth = tweepy.OAuthHandler(consumer_key=consumerKey, consumer_secret=consumerSecret)\n",
    "auth.set_access_token(accessToken, accessTokenSecret)\n",
    "api = tweepy.API(auth)\n",
    "\n",
    "searchTerm = input(\"Enter keyword/hastag to search about : \")\n",
    "number = int(input(\"How many tweets do you wanna print :  \"))\n",
    "tweets = tweepy.Cursor(api.search, q=searchTerm , rpp=100).items(number)\n",
    "# print(tweets)\n",
    "\n",
    "for tweet in tweets:\n",
    "    print(tweet.text)"
   ]
  },
  {
   "cell_type": "code",
   "execution_count": null,
   "metadata": {},
   "outputs": [],
   "source": []
  }
 ],
 "metadata": {
  "kernelspec": {
   "display_name": "Python 3",
   "language": "python",
   "name": "python3"
  },
  "language_info": {
   "codemirror_mode": {
    "name": "ipython",
    "version": 3
   },
   "file_extension": ".py",
   "mimetype": "text/x-python",
   "name": "python",
   "nbconvert_exporter": "python",
   "pygments_lexer": "ipython3",
   "version": "3.7.3"
  }
 },
 "nbformat": 4,
 "nbformat_minor": 2
}
